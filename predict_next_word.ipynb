{
 "cells": [
  {
   "cell_type": "code",
   "execution_count": 2,
   "id": "d3091bdf",
   "metadata": {},
   "outputs": [],
   "source": [
    "from keras.layers import LSTM, Activation, Dense, Dropout, Input, Embedding,GRU,Bidirectional\n",
    "\n",
    "from keras.utils import to_categorical\n",
    "from keras.callbacks import EarlyStopping\n",
    "\n",
    "import pandas as pd\n",
    "import numpy as np\n",
    "\n",
    "import seaborn as sns\n",
    "from sklearn.model_selection import train_test_split\n",
    "from sklearn.preprocessing import LabelEncoder\n",
    " \n",
    "from keras.preprocessing.text import Tokenizer\n",
    "\n",
    "from keras.utils import pad_sequences\n",
    "\n",
    "import matplotlib.pyplot as plt\n",
    "\n",
    "import string"
   ]
  },
  {
   "cell_type": "code",
   "execution_count": 25,
   "id": "91e13d88",
   "metadata": {},
   "outputs": [],
   "source": [
    "data=\"Artificial Intelligence (AI) is a technical c that studies and develops theories, methods, technologies, and applications for simulating and extending human intelligence. The purpose of AI is to enable machines to think like people and to make machines intelligent. Today, AI has become an interdisciplinary course that involves various fields\""
   ]
  },
  {
   "cell_type": "code",
   "execution_count": 26,
   "id": "c1b9899d",
   "metadata": {},
   "outputs": [],
   "source": [
    "tok = Tokenizer()\n",
    "tok.fit_on_texts([data])\n",
    "sequences = tok.texts_to_sequences([data])[0]"
   ]
  },
  {
   "cell_type": "code",
   "execution_count": 27,
   "id": "824f2cf3",
   "metadata": {},
   "outputs": [],
   "source": [
    "labels=np.array(sequences[1:])\n",
    "seq=np.array(sequences[:-1])"
   ]
  },
  {
   "cell_type": "code",
   "execution_count": 28,
   "id": "d1fbadec",
   "metadata": {},
   "outputs": [],
   "source": [
    "labels=to_categorical(labels)\n",
    "\n",
    "labels=labels[:,1:]"
   ]
  },
  {
   "cell_type": "code",
   "execution_count": 30,
   "id": "383e2ba3",
   "metadata": {},
   "outputs": [
    {
     "name": "stdout",
     "output_type": "stream",
     "text": [
      "Epoch 1/50\n",
      "17/17 [==============================] - 4s 3ms/step - loss: 3.6658 - accuracy: 0.0000e+00\n",
      "Epoch 2/50\n",
      "17/17 [==============================] - 0s 3ms/step - loss: 3.6549 - accuracy: 0.1429\n",
      "Epoch 3/50\n",
      "17/17 [==============================] - 0s 4ms/step - loss: 3.6454 - accuracy: 0.2449\n",
      "Epoch 4/50\n",
      "17/17 [==============================] - 0s 4ms/step - loss: 3.6315 - accuracy: 0.2653\n",
      "Epoch 5/50\n",
      "17/17 [==============================] - 0s 3ms/step - loss: 3.6122 - accuracy: 0.2857\n",
      "Epoch 6/50\n",
      "17/17 [==============================] - 0s 3ms/step - loss: 3.5790 - accuracy: 0.2857\n",
      "Epoch 7/50\n",
      "17/17 [==============================] - 0s 3ms/step - loss: 3.5283 - accuracy: 0.2653\n",
      "Epoch 8/50\n",
      "17/17 [==============================] - 0s 3ms/step - loss: 3.4465 - accuracy: 0.2857\n",
      "Epoch 9/50\n",
      "17/17 [==============================] - 0s 3ms/step - loss: 3.3129 - accuracy: 0.3061\n",
      "Epoch 10/50\n",
      "17/17 [==============================] - 0s 3ms/step - loss: 3.1109 - accuracy: 0.3061\n",
      "Epoch 11/50\n",
      "17/17 [==============================] - 0s 4ms/step - loss: 2.8448 - accuracy: 0.2857\n",
      "Epoch 12/50\n",
      "17/17 [==============================] - 0s 4ms/step - loss: 2.5633 - accuracy: 0.3469\n",
      "Epoch 13/50\n",
      "17/17 [==============================] - 0s 4ms/step - loss: 2.2899 - accuracy: 0.3265\n",
      "Epoch 14/50\n",
      "17/17 [==============================] - 0s 4ms/step - loss: 2.0574 - accuracy: 0.3878\n",
      "Epoch 15/50\n",
      "17/17 [==============================] - 0s 4ms/step - loss: 1.8379 - accuracy: 0.4286\n",
      "Epoch 16/50\n",
      "17/17 [==============================] - 0s 4ms/step - loss: 1.6360 - accuracy: 0.5510\n",
      "Epoch 17/50\n",
      "17/17 [==============================] - 0s 4ms/step - loss: 1.4295 - accuracy: 0.5714\n",
      "Epoch 18/50\n",
      "17/17 [==============================] - 0s 5ms/step - loss: 1.2502 - accuracy: 0.6122\n",
      "Epoch 19/50\n",
      "17/17 [==============================] - 0s 4ms/step - loss: 1.0882 - accuracy: 0.6939\n",
      "Epoch 20/50\n",
      "17/17 [==============================] - 0s 4ms/step - loss: 0.9508 - accuracy: 0.7143\n",
      "Epoch 21/50\n",
      "17/17 [==============================] - 0s 5ms/step - loss: 0.8254 - accuracy: 0.7347\n",
      "Epoch 22/50\n",
      "17/17 [==============================] - 0s 4ms/step - loss: 0.7265 - accuracy: 0.7551\n",
      "Epoch 23/50\n",
      "17/17 [==============================] - 0s 4ms/step - loss: 0.6395 - accuracy: 0.7959\n",
      "Epoch 24/50\n",
      "17/17 [==============================] - 0s 4ms/step - loss: 0.5760 - accuracy: 0.7959\n",
      "Epoch 25/50\n",
      "17/17 [==============================] - 0s 5ms/step - loss: 0.5320 - accuracy: 0.7755\n",
      "Epoch 26/50\n",
      "17/17 [==============================] - 0s 5ms/step - loss: 0.5163 - accuracy: 0.7755\n",
      "Epoch 27/50\n",
      "17/17 [==============================] - 0s 4ms/step - loss: 0.4832 - accuracy: 0.7755\n",
      "Epoch 28/50\n",
      "17/17 [==============================] - 0s 4ms/step - loss: 0.4656 - accuracy: 0.7959\n",
      "Epoch 29/50\n",
      "17/17 [==============================] - 0s 4ms/step - loss: 0.4406 - accuracy: 0.7551\n",
      "Epoch 30/50\n",
      "17/17 [==============================] - 0s 4ms/step - loss: 0.4382 - accuracy: 0.7347\n",
      "Epoch 31/50\n",
      "17/17 [==============================] - 0s 5ms/step - loss: 0.4288 - accuracy: 0.7551\n",
      "Epoch 32/50\n",
      "17/17 [==============================] - 0s 4ms/step - loss: 0.4193 - accuracy: 0.7347\n",
      "Epoch 33/50\n",
      "17/17 [==============================] - 0s 4ms/step - loss: 0.4109 - accuracy: 0.7143\n",
      "Epoch 34/50\n",
      "17/17 [==============================] - 0s 5ms/step - loss: 0.4052 - accuracy: 0.7551\n",
      "Epoch 35/50\n",
      "17/17 [==============================] - 0s 4ms/step - loss: 0.3993 - accuracy: 0.7551\n",
      "Epoch 36/50\n",
      "17/17 [==============================] - 0s 3ms/step - loss: 0.3921 - accuracy: 0.7551\n",
      "Epoch 37/50\n",
      "17/17 [==============================] - 0s 3ms/step - loss: 0.3931 - accuracy: 0.7347\n",
      "Epoch 38/50\n",
      "17/17 [==============================] - 0s 3ms/step - loss: 0.4104 - accuracy: 0.7347\n",
      "Epoch 39/50\n",
      "17/17 [==============================] - 0s 4ms/step - loss: 0.3981 - accuracy: 0.7551\n",
      "Epoch 40/50\n",
      "17/17 [==============================] - 0s 4ms/step - loss: 0.3804 - accuracy: 0.7959\n",
      "Epoch 41/50\n",
      "17/17 [==============================] - 0s 4ms/step - loss: 0.3927 - accuracy: 0.7755\n",
      "Epoch 42/50\n",
      "17/17 [==============================] - 0s 4ms/step - loss: 0.3863 - accuracy: 0.7755\n",
      "Epoch 43/50\n",
      "17/17 [==============================] - 0s 4ms/step - loss: 0.3893 - accuracy: 0.7143\n",
      "Epoch 44/50\n",
      "17/17 [==============================] - 0s 4ms/step - loss: 0.3720 - accuracy: 0.7755\n",
      "Epoch 45/50\n",
      "17/17 [==============================] - 0s 4ms/step - loss: 0.3846 - accuracy: 0.7347\n",
      "Epoch 46/50\n",
      "17/17 [==============================] - 0s 3ms/step - loss: 0.3827 - accuracy: 0.7347\n",
      "Epoch 47/50\n",
      "17/17 [==============================] - 0s 3ms/step - loss: 0.3811 - accuracy: 0.7551\n",
      "Epoch 48/50\n",
      "17/17 [==============================] - 0s 3ms/step - loss: 0.3864 - accuracy: 0.7347\n",
      "Epoch 49/50\n",
      "17/17 [==============================] - 0s 3ms/step - loss: 0.3772 - accuracy: 0.7347\n",
      "Epoch 50/50\n",
      "17/17 [==============================] - 0s 4ms/step - loss: 0.3792 - accuracy: 0.7347\n"
     ]
    }
   ],
   "source": [
    "from keras.models import Sequential\n",
    "modelBLSTM= Sequential()\n",
    "modelBLSTM.add(Embedding(49,49,input_length=1))\n",
    "modelBLSTM.add(Bidirectional(LSTM(49)))\n",
    "modelBLSTM.add(Dense(50,activation='relu'))\n",
    "modelBLSTM.add(Dense(39,activation='softmax'))\n",
    "\n",
    "modelBLSTM.compile('adam',loss='categorical_crossentropy',metrics=['accuracy'])\n",
    "\n",
    "historyBLSTM=modelBLSTM.fit(seq,labels,batch_size=3,epochs=50)"
   ]
  },
  {
   "cell_type": "code",
   "execution_count": 22,
   "id": "37506b2a",
   "metadata": {},
   "outputs": [],
   "source": [
    "def pred_next_word(x):\n",
    " l=[]\n",
    " word = tok.texts_to_sequences([x])[0]\n",
    " predBLSTM=modelBLSTM.predict(word)\n",
    " l.append(np.argmax(predBLSTM))\n",
    " print(tok.sequences_to_texts([l]))"
   ]
  },
  {
   "cell_type": "code",
   "execution_count": 32,
   "id": "1568aedd",
   "metadata": {},
   "outputs": [
    {
     "name": "stdout",
     "output_type": "stream",
     "text": [
      "1/1 [==============================] - 0s 36ms/step\n",
      "['is']\n"
     ]
    }
   ],
   "source": [
    "pred_next_word('science')"
   ]
  }
 ],
 "metadata": {
  "kernelspec": {
   "display_name": "Python 3 (ipykernel)",
   "language": "python",
   "name": "python3"
  },
  "language_info": {
   "codemirror_mode": {
    "name": "ipython",
    "version": 3
   },
   "file_extension": ".py",
   "mimetype": "text/x-python",
   "name": "python",
   "nbconvert_exporter": "python",
   "pygments_lexer": "ipython3",
   "version": "3.8.0"
  }
 },
 "nbformat": 4,
 "nbformat_minor": 5
}
