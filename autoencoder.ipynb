{
 "cells": [
  {
   "cell_type": "code",
   "execution_count": 5,
   "id": "11491686",
   "metadata": {},
   "outputs": [],
   "source": [
    "import matplotlib.pyplot as plt\n",
    "import numpy as np\n",
    "\n",
    "from keras.models import Model\n",
    "from keras.layers import Dense, Input\n"
   ]
  },
  {
   "cell_type": "code",
   "execution_count": 2,
   "id": "8da16f05",
   "metadata": {},
   "outputs": [
    {
     "name": "stdout",
     "output_type": "stream",
     "text": [
      "Downloading data from https://storage.googleapis.com/tensorflow/tf-keras-datasets/mnist.npz\n",
      "11490434/11490434 [==============================] - 0s 0us/step\n"
     ]
    }
   ],
   "source": [
    "from keras.datasets import mnist\n",
    "(x_train, y_train), (x_test, y_test) = mnist.load_data() "
   ]
  },
  {
   "cell_type": "code",
   "execution_count": 12,
   "id": "8c672a77",
   "metadata": {},
   "outputs": [
    {
     "data": {
      "image/png": "[encoded data removed]",
      "text/plain": [
       "<Figure size 640x480 with 3 Axes>"
      ]
     },
     "metadata": {},
     "output_type": "display_data"
    }
   ],
   "source": [
    "for i in range (0,3):\n",
    "    plt.subplot(2,3,i+1)\n",
    "    plt.imshow(x_train[i].reshape((28,28)),'gray')"
   ]
  },
  {
   "cell_type": "code",
   "execution_count": 3,
   "id": "5126eb5c",
   "metadata": {},
   "outputs": [],
   "source": [
    "#normalisation\n",
    "\n",
    "x_train = x_train.astype('float32') / 255.0 \n",
    "x_test = x_test.astype('float32') / 255.0"
   ]
  },
  {
   "cell_type": "code",
   "execution_count": 4,
   "id": "e985cecb",
   "metadata": {},
   "outputs": [
    {
     "name": "stdout",
     "output_type": "stream",
     "text": [
      "(60000, 784)\n",
      "(10000, 784)\n"
     ]
    }
   ],
   "source": [
    "# Matrix to vector \n",
    "x_train1 = x_train.reshape((len(x_train), np.prod(x_train.shape[1:]))) \n",
    "x_test1 = x_test.reshape((len(x_test), np.prod(x_test.shape[1:])))\n",
    "\n",
    "\n",
    "print(x_train1.shape)\n",
    "print(x_test1.shape)"
   ]
  },
  {
   "cell_type": "code",
   "execution_count": 9,
   "id": "31c801b1",
   "metadata": {},
   "outputs": [
    {
     "name": "stdout",
     "output_type": "stream",
     "text": [
      "Epoch 1/3\n",
      "1875/1875 [==============================] - 7s 3ms/step - loss: 0.1364\n",
      "Epoch 2/3\n",
      "1875/1875 [==============================] - 6s 3ms/step - loss: 0.0981\n",
      "Epoch 3/3\n",
      "1875/1875 [==============================] - 7s 4ms/step - loss: 0.0930\n"
     ]
    },
    {
     "data": {
      "text/plain": [
       "<keras.callbacks.History at 0x219a2ac4280>"
      ]
     },
     "execution_count": 9,
     "metadata": {},
     "output_type": "execute_result"
    }
   ],
   "source": [
    "Input_size = 784\n",
    "Number_Neuron_Hidden_Layer = 128 \n",
    "code_size = 32 \n",
    "\n",
    "Input_Layer = Input(shape=(Input_size,))\n",
    "Hidden_Encoder = Dense(Number_Neuron_Hidden_Layer, activation='relu')(Input_Layer)\n",
    "code = Dense(code_size, activation='relu')(Hidden_Encoder)\n",
    "Hidden_Decoder = Dense(Number_Neuron_Hidden_Layer, activation='relu')(code)\n",
    "Output_Layer = Dense(Input_size, activation='sigmoid')(Hidden_Decoder) # Output should be between 0 and 1 as the input : normalization\n",
    "\n",
    "autoencoder = Model(Input_Layer, Output_Layer)\n",
    "autoencoder.compile(optimizer='adam', loss='binary_crossentropy') \n",
    "autoencoder.fit(x_train1, x_train1, epochs=3) "
   ]
  },
  {
   "cell_type": "code",
   "execution_count": 10,
   "id": "fec2d591",
   "metadata": {},
   "outputs": [
    {
     "name": "stdout",
     "output_type": "stream",
     "text": [
      "313/313 [==============================] - 1s 2ms/step\n"
     ]
    }
   ],
   "source": [
    "image_prediction = autoencoder.predict(x_test1)"
   ]
  },
  {
   "cell_type": "code",
   "execution_count": 11,
   "id": "d302cd8a",
   "metadata": {},
   "outputs": [
    {
     "data": {
      "image/png": "[encoded data removed]",
      "text/plain": [
       "<Figure size 640x480 with 6 Axes>"
      ]
     },
     "metadata": {},
     "output_type": "display_data"
    }
   ],
   "source": [
    "for i in range (0,3):\n",
    "    plt.subplot(2,3,i+1)\n",
    "    plt.imshow(x_test1[i].reshape((28,28)),'gray')\n",
    "    plt.subplot(2,3,i+4)\n",
    "    plt.imshow(image_prediction[i].reshape(28, 28),'gray')"
   ]
  },
  {
   "cell_type": "code",
   "execution_count": null,
   "id": "dd46e395",
   "metadata": {},
   "outputs": [],
   "source": []
  }
 ],
 "metadata": {
  "kernelspec": {
   "display_name": "Python 3 (ipykernel)",
   "language": "python",
   "name": "python3"
  },
  "language_info": {
   "codemirror_mode": {
    "name": "ipython",
    "version": 3
   },
   "file_extension": ".py",
   "mimetype": "text/x-python",
   "name": "python",
   "nbconvert_exporter": "python",
   "pygments_lexer": "ipython3",
   "version": "3.8.0"
  }
 },
 "nbformat": 4,
 "nbformat_minor": 5
}
