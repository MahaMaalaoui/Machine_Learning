{
 "cells": [
  {
   "cell_type": "code",
   "execution_count": null,
   "id": "239087cb",
   "metadata": {},
   "outputs": [],
   "source": [
    "#Data Source \n",
    "#https://www.kaggle.com/datasets/andreazzini/international-airline-passengers"
   ]
  },
  {
   "cell_type": "code",
   "execution_count": 1,
   "id": "c6507294",
   "metadata": {},
   "outputs": [],
   "source": [
    "from keras.layers import LSTM, Activation, Dense, Dropout, Input, Embedding,GRU,Bidirectional\n",
    "\n",
    "from keras.utils import to_categorical\n",
    "\n",
    "import pandas as pd\n",
    "import numpy as np\n",
    "\n",
    "from sklearn.model_selection import train_test_split\n",
    "\n",
    "import matplotlib.pyplot as plt\n",
    "import seaborn as sns\n",
    "\n",
    "import tensorflow as tf\n"
   ]
  },
  {
   "cell_type": "code",
   "execution_count": 53,
   "id": "2a925da0",
   "metadata": {},
   "outputs": [
    {
     "data": {
      "text/html": [
       "<div>\n",
       "<style scoped>\n",
       "    .dataframe tbody tr th:only-of-type {\n",
       "        vertical-align: middle;\n",
       "    }\n",
       "\n",
       "    .dataframe tbody tr th {\n",
       "        vertical-align: top;\n",
       "    }\n",
       "\n",
       "    .dataframe thead th {\n",
       "        text-align: right;\n",
       "    }\n",
       "</style>\n",
       "<table border=\"1\" class=\"dataframe\">\n",
       "  <thead>\n",
       "    <tr style=\"text-align: right;\">\n",
       "      <th></th>\n",
       "      <th>Month</th>\n",
       "      <th>numb_pass</th>\n",
       "    </tr>\n",
       "  </thead>\n",
       "  <tbody>\n",
       "    <tr>\n",
       "      <th>0</th>\n",
       "      <td>1949-01</td>\n",
       "      <td>112.0</td>\n",
       "    </tr>\n",
       "    <tr>\n",
       "      <th>1</th>\n",
       "      <td>1949-02</td>\n",
       "      <td>118.0</td>\n",
       "    </tr>\n",
       "    <tr>\n",
       "      <th>2</th>\n",
       "      <td>1949-03</td>\n",
       "      <td>132.0</td>\n",
       "    </tr>\n",
       "    <tr>\n",
       "      <th>3</th>\n",
       "      <td>1949-04</td>\n",
       "      <td>129.0</td>\n",
       "    </tr>\n",
       "    <tr>\n",
       "      <th>4</th>\n",
       "      <td>1949-05</td>\n",
       "      <td>121.0</td>\n",
       "    </tr>\n",
       "  </tbody>\n",
       "</table>\n",
       "</div>"
      ],
      "text/plain": [
       "     Month  numb_pass\n",
       "0  1949-01      112.0\n",
       "1  1949-02      118.0\n",
       "2  1949-03      132.0\n",
       "3  1949-04      129.0\n",
       "4  1949-05      121.0"
      ]
     },
     "execution_count": 53,
     "metadata": {},
     "output_type": "execute_result"
    }
   ],
   "source": [
    "df = pd.read_csv(\"Downloads/air.csv\",delimiter=',',encoding='latin-1')\n",
    "df.head()"
   ]
  },
  {
   "cell_type": "code",
   "execution_count": null,
   "id": "412624d7",
   "metadata": {},
   "outputs": [],
   "source": [
    "#in this task we want to predict the number of for passengers of the next month using the number of passengers of the last month\n",
    "#so we only need the second column that contains the number and we will use it as the features and labels at the same time "
   ]
  },
  {
   "cell_type": "code",
   "execution_count": 54,
   "id": "153817d3",
   "metadata": {},
   "outputs": [],
   "source": [
    "df=df.drop(['Month'],axis=1)\n",
    "data1=df.astype('float32')"
   ]
  },
  {
   "cell_type": "code",
   "execution_count": 10,
   "id": "efe13221",
   "metadata": {},
   "outputs": [],
   "source": [
    "from sklearn.preprocessing import MinMaxScaler\n",
    "scaler=MinMaxScaler(feature_range=(0,1))\n",
    "data=scaler.fit_transform(data1)"
   ]
  },
  {
   "cell_type": "code",
   "execution_count": 11,
   "id": "c5e0edeb",
   "metadata": {},
   "outputs": [],
   "source": [
    "labels=np.array(data[1:])\n",
    "data=np.array(data[:-1])"
   ]
  },
  {
   "cell_type": "code",
   "execution_count": 12,
   "id": "f7cbb22b",
   "metadata": {},
   "outputs": [],
   "source": [
    "import math\n",
    "n_train=math.floor(len(data)*(1-0.33))\n",
    "train = data[:n_train]\n",
    "train_lab = labels[:n_train]\n",
    "test = data[n_train:]\n",
    "test_lab = labels[n_train:]"
   ]
  },
  {
   "cell_type": "code",
   "execution_count": 29,
   "id": "b0c2f00d",
   "metadata": {},
   "outputs": [],
   "source": [
    "train1=train.reshape(train.shape[0],train.shape[1],1) \n",
    "test1=test.reshape(test.shape[0],test.shape[1],1)"
   ]
  },
  {
   "cell_type": "code",
   "execution_count": 36,
   "id": "12a1726e",
   "metadata": {
    "scrolled": false
   },
   "outputs": [
    {
     "name": "stdout",
     "output_type": "stream",
     "text": [
      "Epoch 1/100\n",
      "3/3 [==============================] - 2s 208ms/step - loss: 0.1223 - mae: 0.3362 - val_loss: 0.0157 - val_mae: 0.1095\n",
      "Epoch 2/100\n",
      "3/3 [==============================] - 0s 19ms/step - loss: 0.1213 - mae: 0.3347 - val_loss: 0.0154 - val_mae: 0.1082\n",
      "Epoch 3/100\n",
      "3/3 [==============================] - 0s 16ms/step - loss: 0.1203 - mae: 0.3331 - val_loss: 0.0151 - val_mae: 0.1070\n",
      "Epoch 4/100\n",
      "3/3 [==============================] - 0s 18ms/step - loss: 0.1193 - mae: 0.3316 - val_loss: 0.0148 - val_mae: 0.1060\n",
      "Epoch 5/100\n",
      "3/3 [==============================] - 0s 16ms/step - loss: 0.1183 - mae: 0.3301 - val_loss: 0.0145 - val_mae: 0.1050\n",
      "Epoch 6/100\n",
      "3/3 [==============================] - 0s 18ms/step - loss: 0.1173 - mae: 0.3286 - val_loss: 0.0142 - val_mae: 0.1039\n",
      "Epoch 7/100\n",
      "3/3 [==============================] - 0s 33ms/step - loss: 0.1163 - mae: 0.3270 - val_loss: 0.0139 - val_mae: 0.1029\n",
      "Epoch 8/100\n",
      "3/3 [==============================] - 0s 19ms/step - loss: 0.1154 - mae: 0.3255 - val_loss: 0.0136 - val_mae: 0.1018\n",
      "Epoch 9/100\n",
      "3/3 [==============================] - 0s 17ms/step - loss: 0.1144 - mae: 0.3240 - val_loss: 0.0133 - val_mae: 0.1008\n",
      "Epoch 10/100\n",
      "3/3 [==============================] - 0s 41ms/step - loss: 0.1134 - mae: 0.3224 - val_loss: 0.0131 - val_mae: 0.0997\n",
      "Epoch 11/100\n",
      "3/3 [==============================] - 0s 25ms/step - loss: 0.1124 - mae: 0.3209 - val_loss: 0.0128 - val_mae: 0.0986\n",
      "Epoch 12/100\n",
      "3/3 [==============================] - 0s 17ms/step - loss: 0.1114 - mae: 0.3194 - val_loss: 0.0126 - val_mae: 0.0976\n",
      "Epoch 13/100\n",
      "3/3 [==============================] - 0s 19ms/step - loss: 0.1105 - mae: 0.3178 - val_loss: 0.0123 - val_mae: 0.0967\n",
      "Epoch 14/100\n",
      "3/3 [==============================] - 0s 34ms/step - loss: 0.1095 - mae: 0.3162 - val_loss: 0.0121 - val_mae: 0.0958\n",
      "Epoch 15/100\n",
      "3/3 [==============================] - 0s 25ms/step - loss: 0.1085 - mae: 0.3147 - val_loss: 0.0119 - val_mae: 0.0949\n",
      "Epoch 16/100\n",
      "3/3 [==============================] - 0s 13ms/step - loss: 0.1076 - mae: 0.3131 - val_loss: 0.0116 - val_mae: 0.0941\n",
      "Epoch 17/100\n",
      "3/3 [==============================] - 0s 18ms/step - loss: 0.1066 - mae: 0.3115 - val_loss: 0.0114 - val_mae: 0.0932\n",
      "Epoch 18/100\n",
      "3/3 [==============================] - 0s 18ms/step - loss: 0.1056 - mae: 0.3099 - val_loss: 0.0112 - val_mae: 0.0923\n",
      "Epoch 19/100\n",
      "3/3 [==============================] - 0s 17ms/step - loss: 0.1047 - mae: 0.3083 - val_loss: 0.0110 - val_mae: 0.0914\n",
      "Epoch 20/100\n",
      "3/3 [==============================] - 0s 18ms/step - loss: 0.1037 - mae: 0.3067 - val_loss: 0.0108 - val_mae: 0.0905\n",
      "Epoch 21/100\n",
      "3/3 [==============================] - 0s 16ms/step - loss: 0.1027 - mae: 0.3051 - val_loss: 0.0106 - val_mae: 0.0897\n",
      "Epoch 22/100\n",
      "3/3 [==============================] - 0s 18ms/step - loss: 0.1017 - mae: 0.3035 - val_loss: 0.0104 - val_mae: 0.0890\n",
      "Epoch 23/100\n",
      "3/3 [==============================] - 0s 17ms/step - loss: 0.1008 - mae: 0.3018 - val_loss: 0.0102 - val_mae: 0.0883\n",
      "Epoch 24/100\n",
      "3/3 [==============================] - 0s 20ms/step - loss: 0.0998 - mae: 0.3002 - val_loss: 0.0100 - val_mae: 0.0876\n",
      "Epoch 25/100\n",
      "3/3 [==============================] - 0s 19ms/step - loss: 0.0988 - mae: 0.2985 - val_loss: 0.0098 - val_mae: 0.0869\n",
      "Epoch 26/100\n",
      "3/3 [==============================] - 0s 19ms/step - loss: 0.0978 - mae: 0.2968 - val_loss: 0.0097 - val_mae: 0.0862\n",
      "Epoch 27/100\n",
      "3/3 [==============================] - 0s 16ms/step - loss: 0.0969 - mae: 0.2952 - val_loss: 0.0095 - val_mae: 0.0854\n",
      "Epoch 28/100\n",
      "3/3 [==============================] - 0s 20ms/step - loss: 0.0959 - mae: 0.2935 - val_loss: 0.0093 - val_mae: 0.0847\n",
      "Epoch 29/100\n",
      "3/3 [==============================] - 0s 18ms/step - loss: 0.0949 - mae: 0.2917 - val_loss: 0.0092 - val_mae: 0.0840\n",
      "Epoch 30/100\n",
      "3/3 [==============================] - 0s 42ms/step - loss: 0.0939 - mae: 0.2900 - val_loss: 0.0090 - val_mae: 0.0832\n",
      "Epoch 31/100\n",
      "3/3 [==============================] - 0s 25ms/step - loss: 0.0929 - mae: 0.2883 - val_loss: 0.0089 - val_mae: 0.0825\n",
      "Epoch 32/100\n",
      "3/3 [==============================] - 0s 14ms/step - loss: 0.0919 - mae: 0.2865 - val_loss: 0.0088 - val_mae: 0.0817\n",
      "Epoch 33/100\n",
      "3/3 [==============================] - 0s 19ms/step - loss: 0.0909 - mae: 0.2847 - val_loss: 0.0087 - val_mae: 0.0809\n",
      "Epoch 34/100\n",
      "3/3 [==============================] - 0s 16ms/step - loss: 0.0899 - mae: 0.2829 - val_loss: 0.0085 - val_mae: 0.0801\n",
      "Epoch 35/100\n",
      "3/3 [==============================] - 0s 16ms/step - loss: 0.0889 - mae: 0.2811 - val_loss: 0.0084 - val_mae: 0.0794\n",
      "Epoch 36/100\n",
      "3/3 [==============================] - 0s 18ms/step - loss: 0.0879 - mae: 0.2792 - val_loss: 0.0083 - val_mae: 0.0786\n",
      "Epoch 37/100\n",
      "3/3 [==============================] - 0s 19ms/step - loss: 0.0869 - mae: 0.2774 - val_loss: 0.0082 - val_mae: 0.0778\n",
      "Epoch 38/100\n",
      "3/3 [==============================] - 0s 17ms/step - loss: 0.0859 - mae: 0.2755 - val_loss: 0.0082 - val_mae: 0.0770\n",
      "Epoch 39/100\n",
      "3/3 [==============================] - 0s 19ms/step - loss: 0.0848 - mae: 0.2737 - val_loss: 0.0081 - val_mae: 0.0761\n",
      "Epoch 40/100\n",
      "3/3 [==============================] - 0s 19ms/step - loss: 0.0838 - mae: 0.2717 - val_loss: 0.0080 - val_mae: 0.0753\n",
      "Epoch 41/100\n",
      "3/3 [==============================] - 0s 17ms/step - loss: 0.0828 - mae: 0.2698 - val_loss: 0.0080 - val_mae: 0.0745\n",
      "Epoch 42/100\n",
      "3/3 [==============================] - 0s 25ms/step - loss: 0.0818 - mae: 0.2679 - val_loss: 0.0079 - val_mae: 0.0736\n",
      "Epoch 43/100\n",
      "3/3 [==============================] - 0s 17ms/step - loss: 0.0807 - mae: 0.2659 - val_loss: 0.0079 - val_mae: 0.0728\n",
      "Epoch 44/100\n",
      "3/3 [==============================] - 0s 20ms/step - loss: 0.0797 - mae: 0.2639 - val_loss: 0.0079 - val_mae: 0.0719\n",
      "Epoch 45/100\n",
      "3/3 [==============================] - 0s 18ms/step - loss: 0.0787 - mae: 0.2619 - val_loss: 0.0079 - val_mae: 0.0711\n",
      "Epoch 46/100\n",
      "3/3 [==============================] - 0s 18ms/step - loss: 0.0776 - mae: 0.2599 - val_loss: 0.0078 - val_mae: 0.0702\n",
      "Epoch 47/100\n",
      "3/3 [==============================] - 0s 20ms/step - loss: 0.0766 - mae: 0.2578 - val_loss: 0.0079 - val_mae: 0.0693\n",
      "Epoch 48/100\n",
      "3/3 [==============================] - 0s 26ms/step - loss: 0.0755 - mae: 0.2557 - val_loss: 0.0079 - val_mae: 0.0685\n",
      "Epoch 49/100\n",
      "3/3 [==============================] - 0s 22ms/step - loss: 0.0745 - mae: 0.2536 - val_loss: 0.0079 - val_mae: 0.0678\n",
      "Epoch 50/100\n",
      "3/3 [==============================] - 0s 24ms/step - loss: 0.0735 - mae: 0.2515 - val_loss: 0.0080 - val_mae: 0.0673\n",
      "Epoch 51/100\n",
      "3/3 [==============================] - 0s 20ms/step - loss: 0.0724 - mae: 0.2494 - val_loss: 0.0080 - val_mae: 0.0671\n",
      "Epoch 52/100\n",
      "3/3 [==============================] - 0s 22ms/step - loss: 0.0714 - mae: 0.2473 - val_loss: 0.0081 - val_mae: 0.0673\n",
      "Epoch 53/100\n",
      "3/3 [==============================] - 0s 28ms/step - loss: 0.0704 - mae: 0.2452 - val_loss: 0.0082 - val_mae: 0.0676\n",
      "Epoch 54/100\n",
      "3/3 [==============================] - 0s 21ms/step - loss: 0.0693 - mae: 0.2431 - val_loss: 0.0083 - val_mae: 0.0679\n",
      "Epoch 55/100\n",
      "3/3 [==============================] - 0s 19ms/step - loss: 0.0683 - mae: 0.2410 - val_loss: 0.0084 - val_mae: 0.0682\n",
      "Epoch 56/100\n",
      "3/3 [==============================] - 0s 21ms/step - loss: 0.0673 - mae: 0.2389 - val_loss: 0.0085 - val_mae: 0.0687\n",
      "Epoch 57/100\n",
      "3/3 [==============================] - 0s 20ms/step - loss: 0.0663 - mae: 0.2368 - val_loss: 0.0086 - val_mae: 0.0693\n",
      "Epoch 58/100\n",
      "3/3 [==============================] - 0s 21ms/step - loss: 0.0653 - mae: 0.2347 - val_loss: 0.0088 - val_mae: 0.0698\n",
      "Epoch 59/100\n",
      "3/3 [==============================] - 0s 23ms/step - loss: 0.0643 - mae: 0.2325 - val_loss: 0.0089 - val_mae: 0.0705\n",
      "Epoch 60/100\n",
      "3/3 [==============================] - 0s 20ms/step - loss: 0.0633 - mae: 0.2304 - val_loss: 0.0091 - val_mae: 0.0714\n",
      "Epoch 61/100\n",
      "3/3 [==============================] - 0s 23ms/step - loss: 0.0623 - mae: 0.2283 - val_loss: 0.0093 - val_mae: 0.0723\n",
      "Epoch 62/100\n",
      "3/3 [==============================] - 0s 20ms/step - loss: 0.0614 - mae: 0.2261 - val_loss: 0.0095 - val_mae: 0.0734\n",
      "Epoch 63/100\n",
      "3/3 [==============================] - 0s 20ms/step - loss: 0.0604 - mae: 0.2239 - val_loss: 0.0097 - val_mae: 0.0745\n",
      "Epoch 64/100\n",
      "3/3 [==============================] - 0s 21ms/step - loss: 0.0594 - mae: 0.2218 - val_loss: 0.0099 - val_mae: 0.0756\n",
      "Epoch 65/100\n",
      "3/3 [==============================] - 0s 22ms/step - loss: 0.0584 - mae: 0.2197 - val_loss: 0.0102 - val_mae: 0.0767\n",
      "Epoch 66/100\n",
      "3/3 [==============================] - 0s 20ms/step - loss: 0.0575 - mae: 0.2175 - val_loss: 0.0104 - val_mae: 0.0778\n",
      "Epoch 67/100\n",
      "3/3 [==============================] - 0s 21ms/step - loss: 0.0565 - mae: 0.2154 - val_loss: 0.0107 - val_mae: 0.0789\n",
      "Epoch 68/100\n",
      "3/3 [==============================] - 0s 21ms/step - loss: 0.0556 - mae: 0.2133 - val_loss: 0.0110 - val_mae: 0.0800\n",
      "Epoch 69/100\n",
      "3/3 [==============================] - 0s 21ms/step - loss: 0.0546 - mae: 0.2111 - val_loss: 0.0113 - val_mae: 0.0812\n",
      "Epoch 70/100\n",
      "3/3 [==============================] - 0s 32ms/step - loss: 0.0537 - mae: 0.2091 - val_loss: 0.0116 - val_mae: 0.0823\n",
      "Epoch 71/100\n",
      "3/3 [==============================] - 0s 20ms/step - loss: 0.0528 - mae: 0.2070 - val_loss: 0.0120 - val_mae: 0.0834\n",
      "Epoch 72/100\n",
      "3/3 [==============================] - 0s 19ms/step - loss: 0.0519 - mae: 0.2049 - val_loss: 0.0123 - val_mae: 0.0845\n",
      "Epoch 73/100\n",
      "3/3 [==============================] - 0s 19ms/step - loss: 0.0510 - mae: 0.2027 - val_loss: 0.0127 - val_mae: 0.0856\n",
      "Epoch 74/100\n",
      "3/3 [==============================] - 0s 29ms/step - loss: 0.0501 - mae: 0.2007 - val_loss: 0.0131 - val_mae: 0.0867\n",
      "Epoch 75/100\n",
      "3/3 [==============================] - 0s 19ms/step - loss: 0.0492 - mae: 0.1986 - val_loss: 0.0134 - val_mae: 0.0879\n",
      "Epoch 76/100\n",
      "3/3 [==============================] - 0s 24ms/step - loss: 0.0484 - mae: 0.1965 - val_loss: 0.0139 - val_mae: 0.0892\n",
      "Epoch 77/100\n",
      "3/3 [==============================] - 0s 26ms/step - loss: 0.0475 - mae: 0.1944 - val_loss: 0.0143 - val_mae: 0.0906\n",
      "Epoch 78/100\n",
      "3/3 [==============================] - 0s 27ms/step - loss: 0.0466 - mae: 0.1922 - val_loss: 0.0147 - val_mae: 0.0919\n",
      "Epoch 79/100\n",
      "3/3 [==============================] - 0s 20ms/step - loss: 0.0458 - mae: 0.1901 - val_loss: 0.0151 - val_mae: 0.0933\n",
      "Epoch 80/100\n",
      "3/3 [==============================] - 0s 25ms/step - loss: 0.0450 - mae: 0.1881 - val_loss: 0.0156 - val_mae: 0.0947\n",
      "Epoch 81/100\n",
      "3/3 [==============================] - 0s 17ms/step - loss: 0.0442 - mae: 0.1860 - val_loss: 0.0161 - val_mae: 0.0964\n",
      "Epoch 82/100\n",
      "3/3 [==============================] - 0s 20ms/step - loss: 0.0433 - mae: 0.1838 - val_loss: 0.0166 - val_mae: 0.0982\n",
      "Epoch 83/100\n",
      "3/3 [==============================] - 0s 19ms/step - loss: 0.0425 - mae: 0.1817 - val_loss: 0.0170 - val_mae: 0.1002\n",
      "Epoch 84/100\n",
      "3/3 [==============================] - 0s 12ms/step - loss: 0.0418 - mae: 0.1797 - val_loss: 0.0176 - val_mae: 0.1025\n",
      "Epoch 85/100\n",
      "3/3 [==============================] - 0s 18ms/step - loss: 0.0410 - mae: 0.1776 - val_loss: 0.0181 - val_mae: 0.1049\n",
      "Epoch 86/100\n",
      "3/3 [==============================] - 0s 17ms/step - loss: 0.0403 - mae: 0.1755 - val_loss: 0.0186 - val_mae: 0.1072\n",
      "Epoch 87/100\n",
      "3/3 [==============================] - 0s 16ms/step - loss: 0.0395 - mae: 0.1736 - val_loss: 0.0191 - val_mae: 0.1095\n",
      "Epoch 88/100\n",
      "3/3 [==============================] - 0s 15ms/step - loss: 0.0388 - mae: 0.1716 - val_loss: 0.0197 - val_mae: 0.1118\n",
      "Epoch 89/100\n",
      "3/3 [==============================] - 0s 16ms/step - loss: 0.0381 - mae: 0.1698 - val_loss: 0.0202 - val_mae: 0.1141\n",
      "Epoch 90/100\n",
      "3/3 [==============================] - 0s 17ms/step - loss: 0.0374 - mae: 0.1679 - val_loss: 0.0208 - val_mae: 0.1163\n",
      "Epoch 91/100\n",
      "3/3 [==============================] - 0s 17ms/step - loss: 0.0367 - mae: 0.1661 - val_loss: 0.0214 - val_mae: 0.1186\n",
      "Epoch 92/100\n",
      "3/3 [==============================] - 0s 16ms/step - loss: 0.0360 - mae: 0.1642 - val_loss: 0.0219 - val_mae: 0.1208\n",
      "Epoch 93/100\n",
      "3/3 [==============================] - 0s 17ms/step - loss: 0.0354 - mae: 0.1624 - val_loss: 0.0225 - val_mae: 0.1231\n",
      "Epoch 94/100\n",
      "3/3 [==============================] - 0s 20ms/step - loss: 0.0347 - mae: 0.1607 - val_loss: 0.0231 - val_mae: 0.1253\n",
      "Epoch 95/100\n",
      "3/3 [==============================] - 0s 17ms/step - loss: 0.0341 - mae: 0.1591 - val_loss: 0.0237 - val_mae: 0.1275\n",
      "Epoch 96/100\n",
      "3/3 [==============================] - 0s 19ms/step - loss: 0.0334 - mae: 0.1575 - val_loss: 0.0243 - val_mae: 0.1296\n",
      "Epoch 97/100\n",
      "3/3 [==============================] - 0s 16ms/step - loss: 0.0329 - mae: 0.1560 - val_loss: 0.0249 - val_mae: 0.1318\n",
      "Epoch 98/100\n",
      "3/3 [==============================] - 0s 17ms/step - loss: 0.0323 - mae: 0.1545 - val_loss: 0.0256 - val_mae: 0.1339\n",
      "Epoch 99/100\n",
      "3/3 [==============================] - 0s 17ms/step - loss: 0.0317 - mae: 0.1530 - val_loss: 0.0262 - val_mae: 0.1360\n",
      "Epoch 100/100\n",
      "3/3 [==============================] - 0s 17ms/step - loss: 0.0311 - mae: 0.1514 - val_loss: 0.0268 - val_mae: 0.1381\n"
     ]
    }
   ],
   "source": [
    "from keras.models import Sequential \n",
    "modelLSTM= Sequential()\n",
    "modelLSTM.add(LSTM(5,input_shape=(1,1)))\n",
    "modelLSTM.add(Dense(1,activation='sigmoid'))\n",
    "modelLSTM.compile(loss= 'mean_squared_error',metrics='mae',optimizer='adam')\n",
    "historyLSTM=modelLSTM.fit(train1,train_lab,epochs=100,validation_split=0.2)"
   ]
  },
  {
   "cell_type": "code",
   "execution_count": 37,
   "id": "58b107df",
   "metadata": {},
   "outputs": [
    {
     "name": "stdout",
     "output_type": "stream",
     "text": [
      "4/4 [==============================] - 0s 2ms/step\n",
      "2/2 [==============================] - 0s 3ms/step\n"
     ]
    }
   ],
   "source": [
    "pred_train=modelLSTM.predict(train1)\n",
    "pred_test=modelLSTM.predict(test1)"
   ]
  },
  {
   "cell_type": "code",
   "execution_count": 41,
   "id": "b281b73e",
   "metadata": {},
   "outputs": [],
   "source": [
    "pred_train_inv=scaler.inverse_transform(pred_train)\n",
    "pred_test_inv=scaler.inverse_transform(pred_test)"
   ]
  },
  {
   "cell_type": "code",
   "execution_count": 55,
   "id": "b9d43ad3",
   "metadata": {},
   "outputs": [
    {
     "name": "stderr",
     "output_type": "stream",
     "text": [
      "C:\\Users\\Maalaoui\\AppData\\Local\\Temp\\ipykernel_4544\\363371166.py:3: MatplotlibDeprecationWarning: Auto-removal of overlapping axes is deprecated since 3.6 and will be removed two minor releases later; explicitly call ax.remove() as needed.\n",
      "  plt.subplot(131)\n"
     ]
    },
    {
     "data": {
      "text/plain": [
       "[<matplotlib.lines.Line2D at 0x1aefeaf4b80>]"
      ]
     },
     "execution_count": 55,
     "metadata": {},
     "output_type": "execute_result"
    },
    {
     "data": {
      "image/png": "[encoded data removed]",
      "text/plain": [
       "<Figure size 640x480 with 3 Axes>"
      ]
     },
     "metadata": {},
     "output_type": "display_data"
    }
   ],
   "source": [
    "import matplotlib.pyplot as plt\n",
    "plt.title('forcasting')\n",
    "plt.subplot(131)\n",
    "plt.plot(data1,color='black')\n",
    "plt.subplot(132)\n",
    "plt.plot(pred_train_inv,color='red')\n",
    "plt.subplot(133)\n",
    "plt.plot(pred_test_inv,color='yellow')"
   ]
  }
 ],
 "metadata": {
  "kernelspec": {
   "display_name": "Python 3 (ipykernel)",
   "language": "python",
   "name": "python3"
  },
  "language_info": {
   "codemirror_mode": {
    "name": "ipython",
    "version": 3
   },
   "file_extension": ".py",
   "mimetype": "text/x-python",
   "name": "python",
   "nbconvert_exporter": "python",
   "pygments_lexer": "ipython3",
   "version": "3.8.0"
  }
 },
 "nbformat": 4,
 "nbformat_minor": 5
}
